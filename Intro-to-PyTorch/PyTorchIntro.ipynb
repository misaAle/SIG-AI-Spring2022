{
 "cells": [
  {
   "cell_type": "code",
   "execution_count": 1,
   "id": "aa669550",
   "metadata": {},
   "outputs": [],
   "source": [
    "%matplotlib inline\n",
    "import torch\n",
    "import numpy as np"
   ]
  },
  {
   "cell_type": "code",
   "execution_count": 2,
   "id": "0250414e",
   "metadata": {
    "scrolled": true
   },
   "outputs": [
    {
     "data": {
      "text/plain": [
       "tensor([[-0.3600, -0.2903, -0.5248],\n",
       "        [-0.1541, -0.4697,  0.1765],\n",
       "        [-0.2172, -0.4495,  0.6826],\n",
       "        [ 0.4822,  0.6903, -0.4127],\n",
       "        [ 0.8972, -0.8654,  0.2672]])"
      ]
     },
     "execution_count": 2,
     "metadata": {},
     "output_type": "execute_result"
    }
   ],
   "source": [
    "torch.Tensor(5, 3).uniform_(-1, 1)"
   ]
  },
  {
   "cell_type": "code",
   "execution_count": 3,
   "id": "c1962ddd",
   "metadata": {},
   "outputs": [],
   "source": [
    "shape = (3,4)\n",
    "rand_tensor = torch.rand(shape)"
   ]
  },
  {
   "cell_type": "code",
   "execution_count": 4,
   "id": "b7c8f2f9",
   "metadata": {
    "scrolled": true
   },
   "outputs": [
    {
     "data": {
      "text/plain": [
       "tensor([[0.9688, 0.6981, 0.9489, 0.7595],\n",
       "        [0.8256, 0.1407, 0.7666, 0.1109],\n",
       "        [0.2756, 0.1802, 0.8921, 0.7898]])"
      ]
     },
     "execution_count": 4,
     "metadata": {},
     "output_type": "execute_result"
    }
   ],
   "source": [
    "rand_tensor"
   ]
  },
  {
   "cell_type": "code",
   "execution_count": 6,
   "id": "2675e2b5",
   "metadata": {},
   "outputs": [],
   "source": [
    "data = rand_tensor"
   ]
  },
  {
   "cell_type": "code",
   "execution_count": 7,
   "id": "1781b726",
   "metadata": {
    "scrolled": true
   },
   "outputs": [
    {
     "name": "stdout",
     "output_type": "stream",
     "text": [
      "Numpy np_array value: \n",
      " [[0.9687947  0.69807833 0.94892    0.75952375]\n",
      " [0.8256072  0.14070284 0.7665622  0.11088091]\n",
      " [0.27562755 0.18015355 0.89205724 0.7898049 ]] \n",
      "\n",
      "Tensor x_np value: \n",
      " tensor([[0.9688, 0.6981, 0.9489, 0.7595],\n",
      "        [0.8256, 0.1407, 0.7666, 0.1109],\n",
      "        [0.2756, 0.1802, 0.8921, 0.7898]]) \n",
      "\n",
      "Numpy np_array after * 2 operation: \n",
      " [[1.9375894  1.3961567  1.89784    1.5190475 ]\n",
      " [1.6512144  0.2814057  1.5331244  0.22176182]\n",
      " [0.5512551  0.3603071  1.7841145  1.5796098 ]] \n",
      "\n",
      "Tensor x_np value after modifying numpy array: \n",
      " tensor([[1.9376, 1.3962, 1.8978, 1.5190],\n",
      "        [1.6512, 0.2814, 1.5331, 0.2218],\n",
      "        [0.5513, 0.3603, 1.7841, 1.5796]]) \n",
      "\n"
     ]
    }
   ],
   "source": [
    "np_array = np.array(data)\n",
    "x_np = torch.from_numpy(np_array)\n",
    "\n",
    "print(f\"Numpy np_array value: \\n {np_array} \\n\")\n",
    "print(f\"Tensor x_np value: \\n {x_np} \\n\")\n",
    "\n",
    "np.multiply(np_array, 2, out=np_array)\n",
    "\n",
    "print(f\"Numpy np_array after * 2 operation: \\n {np_array} \\n\")\n",
    "print(f\"Tensor x_np value after modifying numpy array: \\n {x_np} \\n\")"
   ]
  },
  {
   "cell_type": "code",
   "execution_count": 8,
   "id": "8930357e",
   "metadata": {},
   "outputs": [
    {
     "name": "stdout",
     "output_type": "stream",
     "text": [
      "Shape of tensor: torch.Size([4, 5])\n",
      "Datatype of tensor: torch.float32\n",
      "Device tensor is stored on: cpu\n"
     ]
    }
   ],
   "source": [
    "tensor = torch.rand(4, 5)\n",
    "\n",
    "print(f\"Shape of tensor: {tensor.shape}\")\n",
    "print(f\"Datatype of tensor: {tensor.dtype}\")\n",
    "print(f\"Device tensor is stored on: {tensor.device}\")"
   ]
  },
  {
   "cell_type": "code",
   "execution_count": 9,
   "id": "492871b3",
   "metadata": {},
   "outputs": [],
   "source": [
    "if torch.cuda.is_available():\n",
    "  tensor = tensor.to('cuda')"
   ]
  },
  {
   "cell_type": "code",
   "execution_count": 11,
   "id": "43fb5b34",
   "metadata": {
    "scrolled": false
   },
   "outputs": [
    {
     "name": "stdout",
     "output_type": "stream",
     "text": [
      "tensor([[0.5131, 0.9625, 0.3754, 0.0408],\n",
      "        [0.2458, 0.7542, 0.3710, 0.9192],\n",
      "        [0.0195, 0.4349, 0.1687, 0.5693],\n",
      "        [0.4643, 0.7828, 0.5637, 0.0317]])\n",
      "First row:  tensor([0.5131, 0.9625, 0.3754, 0.0408])\n",
      "First column:  tensor([0.5131, 0.2458, 0.0195, 0.4643])\n",
      "Last column: tensor([0.0408, 0.9192, 0.5693, 0.0317])\n",
      "tensor([[0.5131, 0.0000, 0.3754, 0.0408],\n",
      "        [0.2458, 0.0000, 0.3710, 0.9192],\n",
      "        [0.0195, 0.0000, 0.1687, 0.5693],\n",
      "        [0.4643, 0.0000, 0.5637, 0.0317]])\n"
     ]
    }
   ],
   "source": [
    "tensor = torch.rand(4, 4)\n",
    "print(tensor)\n",
    "print('First row: ',tensor[0])\n",
    "print('First column: ', tensor[:, 0])\n",
    "print('Last column:', tensor[:, -1])\n",
    "tensor[:,1] = 0\n",
    "print(tensor)"
   ]
  },
  {
   "cell_type": "code",
   "execution_count": 12,
   "id": "7866d7a8",
   "metadata": {
    "scrolled": true
   },
   "outputs": [
    {
     "name": "stdout",
     "output_type": "stream",
     "text": [
      "tensor([[2.5131, 2.0000, 2.3754, 2.0408],\n",
      "        [2.2458, 2.0000, 2.3710, 2.9192],\n",
      "        [2.0195, 2.0000, 2.1687, 2.5693],\n",
      "        [2.4643, 2.0000, 2.5637, 2.0317]])\n",
      "tensor([[0.5131, 0.0000, 0.3754, 0.0408],\n",
      "        [0.2458, 0.0000, 0.3710, 0.9192],\n",
      "        [0.0195, 0.0000, 0.1687, 0.5693],\n",
      "        [0.4643, 0.0000, 0.5637, 0.0317]])\n"
     ]
    }
   ],
   "source": [
    "print(tensor + 2)\n",
    "print(tensor)"
   ]
  },
  {
   "cell_type": "code",
   "execution_count": 14,
   "id": "e5fe6704",
   "metadata": {},
   "outputs": [
    {
     "name": "stdout",
     "output_type": "stream",
     "text": [
      "tensor([[0.4059, 0.3029, 0.0966, 0.4512],\n",
      "        [0.3029, 1.0429, 0.5906, 0.3524],\n",
      "        [0.0966, 0.5906, 0.3529, 0.1222],\n",
      "        [0.4512, 0.3524, 0.1222, 0.5343]])\n",
      "tensor([[0.4059, 0.3029, 0.0966, 0.4512],\n",
      "        [0.3029, 1.0429, 0.5906, 0.3524],\n",
      "        [0.0966, 0.5906, 0.3529, 0.1222],\n",
      "        [0.4512, 0.3524, 0.1222, 0.5343]])\n"
     ]
    }
   ],
   "source": [
    "x1 = tensor @ tensor.T\n",
    "print(x1)\n",
    "x2 = tensor.matmul(tensor.T)\n",
    "print(x2)\n",
    "# x3 = torch.matmul(tensor, tensor.T, out=y3)\n",
    "# print(x3)"
   ]
  },
  {
   "cell_type": "code",
   "execution_count": 15,
   "id": "f106f0de",
   "metadata": {
    "scrolled": true
   },
   "outputs": [
    {
     "name": "stdout",
     "output_type": "stream",
     "text": [
      "tensor([[0.5131, 0.0000, 0.3754, 0.0408],\n",
      "        [0.2458, 0.0000, 0.3710, 0.9192],\n",
      "        [0.0195, 0.0000, 0.1687, 0.5693],\n",
      "        [0.4643, 0.0000, 0.5637, 0.0317]]) \n",
      "\n",
      "tensor([[5.5131, 5.0000, 5.3754, 5.0408],\n",
      "        [5.2458, 5.0000, 5.3710, 5.9192],\n",
      "        [5.0195, 5.0000, 5.1687, 5.5693],\n",
      "        [5.4643, 5.0000, 5.5637, 5.0317]])\n"
     ]
    }
   ],
   "source": [
    "print(tensor, \"\\n\")\n",
    "tensor.add_(5)\n",
    "print(tensor)"
   ]
  },
  {
   "cell_type": "code",
   "execution_count": 16,
   "id": "cac2cb0e",
   "metadata": {},
   "outputs": [],
   "source": [
    "from torch.utils.data import Dataset\n",
    "from torchvision import datasets\n",
    "from torchvision.transforms import ToTensor, Lambda\n",
    "import matplotlib.pyplot as plt"
   ]
  },
  {
   "cell_type": "code",
   "execution_count": 17,
   "id": "3de2ef7a",
   "metadata": {},
   "outputs": [],
   "source": [
    "training_data = datasets.FashionMNIST(\n",
    "    root=\"data\",\n",
    "    train=True,\n",
    "    download=True,\n",
    "    transform=ToTensor()\n",
    ")\n",
    "\n",
    "test_data = datasets.FashionMNIST(\n",
    "    root=\"data\",\n",
    "    train=False,\n",
    "    download=True,\n",
    "    transform=ToTensor()\n",
    ")"
   ]
  },
  {
   "cell_type": "code",
   "execution_count": 18,
   "id": "2ae1e54a",
   "metadata": {
    "scrolled": true
   },
   "outputs": [
    {
     "data": {
      "text/plain": [
       "<matplotlib.image.AxesImage at 0x1145039d0>"
      ]
     },
     "execution_count": 18,
     "metadata": {},
     "output_type": "execute_result"
    },
    {
     "data": {
      "image/png": "[encoded data removed]",
      "text/plain": [
       "<Figure size 432x288 with 1 Axes>"
      ]
     },
     "metadata": {
      "needs_background": "light"
     },
     "output_type": "display_data"
    }
   ],
   "source": [
    "img, label = training_data[13]\n",
    "plt.title(label)\n",
    "plt.imshow(img.squeeze(), cmap='gray')"
   ]
  },
  {
   "cell_type": "code",
   "execution_count": 21,
   "id": "da6456fb",
   "metadata": {
    "scrolled": true
   },
   "outputs": [
    {
     "data": {
      "text/plain": [
       "['T-shirt/top',\n",
       " 'Trouser',\n",
       " 'Pullover',\n",
       " 'Dress',\n",
       " 'Coat',\n",
       " 'Sandal',\n",
       " 'Shirt',\n",
       " 'Sneaker',\n",
       " 'Bag',\n",
       " 'Ankle boot']"
      ]
     },
     "execution_count": 21,
     "metadata": {},
     "output_type": "execute_result"
    }
   ],
   "source": [
    "training_data.classes"
   ]
  },
  {
   "cell_type": "code",
   "execution_count": 22,
   "id": "0ac2afa0",
   "metadata": {},
   "outputs": [],
   "source": [
    "from torch.utils.data import DataLoader\n",
    "\n",
    "train_dataloader = DataLoader(training_data, batch_size=64, shuffle=True)\n",
    "test_dataloader = DataLoader(test_data, batch_size=64, shuffle=True)"
   ]
  },
  {
   "cell_type": "code",
   "execution_count": 26,
   "id": "1dde57a4",
   "metadata": {},
   "outputs": [
    {
     "name": "stdout",
     "output_type": "stream",
     "text": [
      "Feature batch shape: torch.Size([64, 1, 28, 28])\n",
      "Labels batch shape: torch.Size([64])\n"
     ]
    },
    {
     "data": {
      "image/png": "[encoded data removed]",
      "text/plain": [
       "<Figure size 432x288 with 1 Axes>"
      ]
     },
     "metadata": {
      "needs_background": "light"
     },
     "output_type": "display_data"
    },
    {
     "name": "stdout",
     "output_type": "stream",
     "text": [
      "Label: 0\n"
     ]
    }
   ],
   "source": [
    "# Display image and label.\n",
    "train_features, train_labels = next(iter(train_dataloader))\n",
    "print(f\"Feature batch shape: {train_features.size()}\")\n",
    "print(f\"Labels batch shape: {train_labels.size()}\")\n",
    "img = train_features[0].squeeze()\n",
    "label = train_labels[0]\n",
    "plt.imshow(img, cmap=\"gray\")\n",
    "plt.show()\n",
    "print(f\"Label: {label}\")"
   ]
  },
  {
   "cell_type": "code",
   "execution_count": 30,
   "id": "92886994",
   "metadata": {},
   "outputs": [],
   "source": [
    "import torch.nn as nn"
   ]
  },
  {
   "cell_type": "code",
   "execution_count": 31,
   "id": "b523f1bd",
   "metadata": {},
   "outputs": [],
   "source": [
    "class NeuralNetwork(nn.Module):\n",
    "    def __init__(self):\n",
    "        super(NeuralNetwork, self).__init__()\n",
    "        self.flatten = nn.Flatten()\n",
    "        self.linear_relu_stack = nn.Sequential(\n",
    "            nn.Linear(28*28, 512),\n",
    "            nn.ReLU(),\n",
    "            nn.Linear(512, 512),\n",
    "            nn.ReLU(),\n",
    "            nn.Linear(512, 10),\n",
    "            nn.ReLU()\n",
    "        )\n",
    "\n",
    "    def forward(self, x):\n",
    "        x = self.flatten(x)\n",
    "        logits = self.linear_relu_stack(x)\n",
    "        return logits\n"
   ]
  },
  {
   "cell_type": "code",
   "execution_count": 35,
   "id": "5a194c65",
   "metadata": {},
   "outputs": [],
   "source": [
    "device = 'cpu'"
   ]
  },
  {
   "cell_type": "code",
   "execution_count": 36,
   "id": "147cb4c8",
   "metadata": {},
   "outputs": [
    {
     "name": "stdout",
     "output_type": "stream",
     "text": [
      "NeuralNetwork(\n",
      "  (flatten): Flatten(start_dim=1, end_dim=-1)\n",
      "  (linear_relu_stack): Sequential(\n",
      "    (0): Linear(in_features=784, out_features=512, bias=True)\n",
      "    (1): ReLU()\n",
      "    (2): Linear(in_features=512, out_features=512, bias=True)\n",
      "    (3): ReLU()\n",
      "    (4): Linear(in_features=512, out_features=10, bias=True)\n",
      "    (5): ReLU()\n",
      "  )\n",
      ")\n"
     ]
    }
   ],
   "source": [
    "model = NeuralNetwork().to(device)\n",
    "print(model)"
   ]
  },
  {
   "cell_type": "code",
   "execution_count": 87,
   "id": "ebe92d4c",
   "metadata": {},
   "outputs": [
    {
     "name": "stdout",
     "output_type": "stream",
     "text": [
      "Predicted class: tensor([0])\n"
     ]
    }
   ],
   "source": [
    "X = torch.rand(1, 28, 28, device=device)\n",
    "logits = model(X) \n",
    "pred_probab = nn.Softmax(dim=1)(logits)\n",
    "y_pred = pred_probab.argmax(1)\n",
    "print(f\"Predicted class: {y_pred}\")"
   ]
  },
  {
   "cell_type": "code",
   "execution_count": 89,
   "id": "5e60b563",
   "metadata": {},
   "outputs": [],
   "source": [
    "learning_rate = 1e-3\n",
    "batch_size = 64\n",
    "epochs = 5"
   ]
  },
  {
   "cell_type": "code",
   "execution_count": 90,
   "id": "7bddcfe9",
   "metadata": {},
   "outputs": [],
   "source": [
    "optimizer = torch.optim.SGD(model.parameters(), lr=learning_rate)"
   ]
  },
  {
   "cell_type": "code",
   "execution_count": 92,
   "id": "5b110d8d",
   "metadata": {},
   "outputs": [],
   "source": [
    "def train_loop(dataloader, model, loss_fn, optimizer):\n",
    "    size = len(dataloader.dataset)\n",
    "    for batch, (X, y) in enumerate(dataloader):        \n",
    "\n",
    "        pred = model(X)\n",
    "        loss = loss_fn(pred, y)\n",
    "        \n",
    "        optimizer.zero_grad()\n",
    "        loss.backward()\n",
    "        optimizer.step()\n",
    "\n",
    "        if batch % 100 == 0:\n",
    "            loss, current = loss.item(), batch * len(X)\n",
    "            print(f\"loss: {loss:>7f}  [{current:>5d}/{size:>5d}]\")"
   ]
  },
  {
   "cell_type": "code",
   "execution_count": 93,
   "id": "1e0142ba",
   "metadata": {},
   "outputs": [],
   "source": [
    "def test_loop(dataloader, model, loss_fn):\n",
    "    size = len(dataloader.dataset)\n",
    "    test_loss, correct = 0, 0\n",
    "\n",
    "    with torch.no_grad():\n",
    "        for X, y in dataloader:\n",
    "            pred = model(X)\n",
    "            test_loss += loss_fn(pred, y).item()\n",
    "            correct += (pred.argmax(1) == y).type(torch.float).sum().item()\n",
    "            \n",
    "    test_loss /= size\n",
    "    correct /= size\n",
    "    print(f\"Test Error: \\n Accuracy: {(100*correct):>0.1f}%, Avg loss: {test_loss:>8f} \\n\")"
   ]
  },
  {
   "cell_type": "code",
   "execution_count": 94,
   "id": "12eb4058",
   "metadata": {
    "scrolled": true
   },
   "outputs": [
    {
     "name": "stdout",
     "output_type": "stream",
     "text": [
      "Epoch 1\n",
      "-------------------------------\n",
      "loss: 2.307780  [    0/60000]\n",
      "loss: 2.296177  [ 6400/60000]\n",
      "loss: 2.289568  [12800/60000]\n",
      "loss: 2.286807  [19200/60000]\n",
      "loss: 2.282157  [25600/60000]\n",
      "loss: 2.279558  [32000/60000]\n",
      "loss: 2.279210  [38400/60000]\n",
      "loss: 2.259496  [44800/60000]\n",
      "loss: 2.244260  [51200/60000]\n",
      "loss: 2.248813  [57600/60000]\n",
      "Test Error: \n",
      " Accuracy: 25.5%, Avg loss: 0.035200 \n",
      "\n",
      "Epoch 2\n",
      "-------------------------------\n",
      "loss: 2.234715  [    0/60000]\n",
      "loss: 2.249301  [ 6400/60000]\n",
      "loss: 2.234448  [12800/60000]\n",
      "loss: 2.226330  [19200/60000]\n",
      "loss: 2.230519  [25600/60000]\n",
      "loss: 2.201558  [32000/60000]\n",
      "loss: 2.234405  [38400/60000]\n",
      "loss: 2.178332  [44800/60000]\n",
      "loss: 2.095504  [51200/60000]\n",
      "loss: 2.128554  [57600/60000]\n",
      "Test Error: \n",
      " Accuracy: 36.3%, Avg loss: 0.033697 \n",
      "\n",
      "Epoch 3\n",
      "-------------------------------\n",
      "loss: 2.186488  [    0/60000]\n",
      "loss: 2.223050  [ 6400/60000]\n",
      "loss: 2.132253  [12800/60000]\n",
      "loss: 2.083698  [19200/60000]\n",
      "loss: 2.124041  [25600/60000]\n",
      "loss: 2.112988  [32000/60000]\n",
      "loss: 2.048742  [38400/60000]\n",
      "loss: 2.005967  [44800/60000]\n",
      "loss: 2.102164  [51200/60000]\n",
      "loss: 1.945131  [57600/60000]\n",
      "Test Error: \n",
      " Accuracy: 44.9%, Avg loss: 0.031260 \n",
      "\n",
      "Epoch 4\n",
      "-------------------------------\n",
      "loss: 1.989059  [    0/60000]\n",
      "loss: 1.954768  [ 6400/60000]\n",
      "loss: 2.001384  [12800/60000]\n",
      "loss: 1.975285  [19200/60000]\n",
      "loss: 1.915704  [25600/60000]\n",
      "loss: 1.935364  [32000/60000]\n",
      "loss: 1.740301  [38400/60000]\n",
      "loss: 1.820746  [44800/60000]\n",
      "loss: 1.818821  [51200/60000]\n",
      "loss: 1.732595  [57600/60000]\n",
      "Test Error: \n",
      " Accuracy: 49.6%, Avg loss: 0.028402 \n",
      "\n",
      "Epoch 5\n",
      "-------------------------------\n",
      "loss: 1.812974  [    0/60000]\n",
      "loss: 1.729074  [ 6400/60000]\n",
      "loss: 1.792364  [12800/60000]\n",
      "loss: 1.633432  [19200/60000]\n",
      "loss: 1.637642  [25600/60000]\n",
      "loss: 1.661943  [32000/60000]\n",
      "loss: 1.875554  [38400/60000]\n",
      "loss: 1.713694  [44800/60000]\n",
      "loss: 1.747519  [51200/60000]\n",
      "loss: 1.604700  [57600/60000]\n",
      "Test Error: \n",
      " Accuracy: 51.1%, Avg loss: 0.025886 \n",
      "\n",
      "Epoch 6\n",
      "-------------------------------\n",
      "loss: 1.639506  [    0/60000]\n",
      "loss: 1.658006  [ 6400/60000]\n",
      "loss: 1.397698  [12800/60000]\n",
      "loss: 1.598732  [19200/60000]\n",
      "loss: 1.612797  [25600/60000]\n",
      "loss: 1.389281  [32000/60000]\n",
      "loss: 1.577486  [38400/60000]\n",
      "loss: 1.439330  [44800/60000]\n",
      "loss: 1.489915  [51200/60000]\n",
      "loss: 1.537516  [57600/60000]\n",
      "Test Error: \n",
      " Accuracy: 53.2%, Avg loss: 0.024027 \n",
      "\n",
      "Epoch 7\n",
      "-------------------------------\n",
      "loss: 1.476706  [    0/60000]\n",
      "loss: 1.381817  [ 6400/60000]\n",
      "loss: 1.325592  [12800/60000]\n",
      "loss: 1.344450  [19200/60000]\n",
      "loss: 1.484245  [25600/60000]\n",
      "loss: 1.216358  [32000/60000]\n",
      "loss: 1.573962  [38400/60000]\n",
      "loss: 1.391698  [44800/60000]\n",
      "loss: 1.442545  [51200/60000]\n",
      "loss: 1.750608  [57600/60000]\n",
      "Test Error: \n",
      " Accuracy: 54.4%, Avg loss: 0.022633 \n",
      "\n",
      "Epoch 8\n",
      "-------------------------------\n",
      "loss: 1.415026  [    0/60000]\n",
      "loss: 1.454328  [ 6400/60000]\n",
      "loss: 1.448358  [12800/60000]\n",
      "loss: 1.478401  [19200/60000]\n",
      "loss: 1.131446  [25600/60000]\n",
      "loss: 1.381579  [32000/60000]\n",
      "loss: 1.448119  [38400/60000]\n",
      "loss: 1.486687  [44800/60000]\n",
      "loss: 1.439040  [51200/60000]\n",
      "loss: 1.326505  [57600/60000]\n",
      "Test Error: \n",
      " Accuracy: 55.5%, Avg loss: 0.021611 \n",
      "\n",
      "Epoch 9\n",
      "-------------------------------\n",
      "loss: 1.495343  [    0/60000]\n",
      "loss: 1.269345  [ 6400/60000]\n",
      "loss: 1.537074  [12800/60000]\n",
      "loss: 1.310315  [19200/60000]\n",
      "loss: 1.402566  [25600/60000]\n",
      "loss: 1.284580  [32000/60000]\n",
      "loss: 1.359607  [38400/60000]\n",
      "loss: 1.218604  [44800/60000]\n",
      "loss: 1.412585  [51200/60000]\n",
      "loss: 1.206776  [57600/60000]\n",
      "Test Error: \n",
      " Accuracy: 56.0%, Avg loss: 0.020782 \n",
      "\n",
      "Epoch 10\n",
      "-------------------------------\n",
      "loss: 1.244257  [    0/60000]\n",
      "loss: 1.298320  [ 6400/60000]\n",
      "loss: 1.417878  [12800/60000]\n",
      "loss: 1.079536  [19200/60000]\n",
      "loss: 1.168201  [25600/60000]\n",
      "loss: 1.069023  [32000/60000]\n",
      "loss: 1.201829  [38400/60000]\n",
      "loss: 1.436940  [44800/60000]\n",
      "loss: 1.191460  [51200/60000]\n",
      "loss: 1.188705  [57600/60000]\n",
      "Test Error: \n",
      " Accuracy: 56.3%, Avg loss: 0.020121 \n",
      "\n",
      "Done!\n"
     ]
    }
   ],
   "source": [
    "learning_rate=1e-3\n",
    "loss_fn = nn.CrossEntropyLoss()\n",
    "optimizer = torch.optim.SGD(model.parameters(), lr=learning_rate)\n",
    "\n",
    "epochs = 10\n",
    "for t in range(epochs):\n",
    "    print(f\"Epoch {t+1}\\n-------------------------------\")\n",
    "    train_loop(train_dataloader, model, loss_fn, optimizer)\n",
    "    test_loop(test_dataloader, model, loss_fn)\n",
    "print(\"Done!\")"
   ]
  },
  {
   "cell_type": "code",
   "execution_count": 95,
   "id": "95b11952",
   "metadata": {
    "scrolled": true
   },
   "outputs": [
    {
     "name": "stdout",
     "output_type": "stream",
     "text": [
      "Saved PyTorch Model State to model.pth\n"
     ]
    }
   ],
   "source": [
    "torch.save(model.state_dict(), \"data/model.pth\")\n",
    "\n",
    "print(\"Saved PyTorch Model State to model.pth\")"
   ]
  },
  {
   "cell_type": "code",
   "execution_count": 96,
   "id": "acef07ea",
   "metadata": {},
   "outputs": [
    {
     "data": {
      "text/plain": [
       "NeuralNetwork(\n",
       "  (flatten): Flatten(start_dim=1, end_dim=-1)\n",
       "  (linear_relu_stack): Sequential(\n",
       "    (0): Linear(in_features=784, out_features=512, bias=True)\n",
       "    (1): ReLU()\n",
       "    (2): Linear(in_features=512, out_features=512, bias=True)\n",
       "    (3): ReLU()\n",
       "    (4): Linear(in_features=512, out_features=10, bias=True)\n",
       "    (5): ReLU()\n",
       "  )\n",
       ")"
      ]
     },
     "execution_count": 96,
     "metadata": {},
     "output_type": "execute_result"
    }
   ],
   "source": [
    "model = NeuralNetwork()\n",
    "model.load_state_dict(torch.load('data/model.pth'))\n",
    "model.eval()"
   ]
  },
  {
   "cell_type": "code",
   "execution_count": 107,
   "id": "00b14408",
   "metadata": {},
   "outputs": [
    {
     "name": "stdout",
     "output_type": "stream",
     "text": [
      "Predicted: \"Trouser\", Actual: \"Ankle boot\"\n"
     ]
    }
   ],
   "source": [
    "classes = [\n",
    "    \"T-shirt/top\",\n",
    "    \"Trouser\",\n",
    "    \"Pullover\",\n",
    "    \"Dress\",\n",
    "    \"Coat\",\n",
    "    \"Sandal\",\n",
    "    \"Shirt\",\n",
    "    \"Sneaker\",\n",
    "    \"Bag\",\n",
    "    \"Ankle boot\",\n",
    "]\n",
    "x, y = test_data[3][0], test_data[0][1]\n",
    "with torch.no_grad():\n",
    "    pred = model(x)\n",
    "    predicted, actual = classes[pred[0].argmax(0)], classes[y]\n",
    "    print(f'Predicted: \"{predicted}\", Actual: \"{actual}\"')"
   ]
  }
 ],
 "metadata": {
  "kernelspec": {
   "display_name": "Python 3 (ipykernel)",
   "language": "python",
   "name": "python3"
  },
  "language_info": {
   "codemirror_mode": {
    "name": "ipython",
    "version": 3
   },
   "file_extension": ".py",
   "mimetype": "text/x-python",
   "name": "python",
   "nbconvert_exporter": "python",
   "pygments_lexer": "ipython3",
   "version": "3.7.9"
  }
 },
 "nbformat": 4,
 "nbformat_minor": 5
}
